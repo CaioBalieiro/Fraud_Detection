{
 "cells": [
  {
   "cell_type": "markdown",
   "id": "fe052c2b",
   "metadata": {},
   "source": [
    "# Algoritmo de Detecção de fraudes em transações de cartão de crédito"
   ]
  },
  {
   "cell_type": "markdown",
   "id": "e7a138fc",
   "metadata": {},
   "source": [
    "# Problema de Negócio\n",
    "####  É importante que as empresas de cartão de crédito sejam capazes de reconhecer transações fraudulentas com cartão de crédito para que os clientes não sejam cobrados por itens que não compraram.\n",
    "\n",
    "####   O conjunto de dados contém transações feitas por cartões de crédito em setembro de 2013 por titulares de cartões europeus.\n",
    "\n",
    "####  Este conjunto de dados apresenta transações que ocorreram em dois dias, onde temos 492 fraudes em 284.807 mil transações. O conjunto de dados é altamente desequilibrado, a classe positiva (fraudes) responde por 0,172% de todas as transações.\n",
    "\n",
    "#### Ele contém apenas variáveis de entrada numéricas que são o resultado de uma transformação PCA. Infelizmente, devido a questões de confidencialidade, não podemos fornecer os recursos originais e mais informações básicas sobre os dados. Características V1, V2, … V28 são os principais componentes obtidos com PCA, as únicas características que não foram transformadas com PCA são 'Tempo' e 'Valor'. \n",
    "\n",
    "####  O recurso 'Tempo' contém os segundos decorridos entre cada transação e a primeira transação no conjunto de dados. O recurso 'Valor' é o Valor da transação, esse recurso pode ser usado para aprendizado sensível ao custo dependente de exemplo. O recurso 'Class' é a variável de resposta e assume valor 1 em caso de fraude e 0 caso contrário.\n",
    "\n",
    "#### Para fins de promover a ciência, o conjunto de dados utilizado está dispoível em https://www.kaggle.com/mlg-ulb/creditcardfraud\n",
    "\n",
    "# Objetivos deste projeto\n",
    "\n",
    "#### Propor um modelo de detecção de fraude que apresente um erro de classificação de no máximo 20%, isto é, vamos propor um modelo com métricas igual ou superior a 80% de acerto.  "
   ]
  },
  {
   "cell_type": "code",
   "execution_count": 1,
   "id": "ef20d330",
   "metadata": {},
   "outputs": [],
   "source": [
    "# Bibliotecas utilizadas\n",
    "import pandas as pd\n",
    "import numpy as np\n",
    "import matplotlib.pyplot as plt\n",
    "import seaborn as sns\n",
    "from sklearn.model_selection import train_test_split\n",
    "from sklearn.ensemble import RandomForestClassifier, GradientBoostingClassifier\n",
    "from sklearn.linear_model import LogisticRegression\n",
    "from sklearn.tree import DecisionTreeClassifier\n",
    "from sklearn.preprocessing import MinMaxScaler\n",
    "from sklearn.model_selection import RandomizedSearchCV\n",
    "from sklearn.metrics import classification_report, accuracy_score, recall_score, confusion_matrix, matthews_corrcoef, f1_score\n",
    "from collections import Counter\n",
    "from imblearn.under_sampling import RandomUnderSampler\n",
    "from numpy import set_printoptions\n",
    "from sklearn.feature_selection import SelectKBest\n",
    "from sklearn.feature_selection import f_classif\n",
    "from sklearn.feature_selection import RFE\n",
    "from sklearn.linear_model import LogisticRegression\n",
    "%matplotlib inline"
   ]
  },
  {
   "cell_type": "code",
   "execution_count": 2,
   "id": "d6450e8d",
   "metadata": {},
   "outputs": [],
   "source": [
    "# Conjunto de dados de creditcard \n",
    "dataset = pd.read_csv('creditcard.csv.zip',compression='zip')"
   ]
  },
  {
   "cell_type": "code",
   "execution_count": 3,
   "id": "0aee62db",
   "metadata": {},
   "outputs": [
    {
     "data": {
      "text/html": [
       "<div>\n",
       "<style scoped>\n",
       "    .dataframe tbody tr th:only-of-type {\n",
       "        vertical-align: middle;\n",
       "    }\n",
       "\n",
       "    .dataframe tbody tr th {\n",
       "        vertical-align: top;\n",
       "    }\n",
       "\n",
       "    .dataframe thead th {\n",
       "        text-align: right;\n",
       "    }\n",
       "</style>\n",
       "<table border=\"1\" class=\"dataframe\">\n",
       "  <thead>\n",
       "    <tr style=\"text-align: right;\">\n",
       "      <th></th>\n",
       "      <th>Time</th>\n",
       "      <th>V1</th>\n",
       "      <th>V2</th>\n",
       "      <th>V3</th>\n",
       "      <th>V4</th>\n",
       "      <th>V5</th>\n",
       "      <th>V6</th>\n",
       "      <th>V7</th>\n",
       "      <th>V8</th>\n",
       "      <th>V9</th>\n",
       "      <th>...</th>\n",
       "      <th>V21</th>\n",
       "      <th>V22</th>\n",
       "      <th>V23</th>\n",
       "      <th>V24</th>\n",
       "      <th>V25</th>\n",
       "      <th>V26</th>\n",
       "      <th>V27</th>\n",
       "      <th>V28</th>\n",
       "      <th>Amount</th>\n",
       "      <th>Class</th>\n",
       "    </tr>\n",
       "  </thead>\n",
       "  <tbody>\n",
       "    <tr>\n",
       "      <th>0</th>\n",
       "      <td>0.0</td>\n",
       "      <td>-1.359807</td>\n",
       "      <td>-0.072781</td>\n",
       "      <td>2.536347</td>\n",
       "      <td>1.378155</td>\n",
       "      <td>-0.338321</td>\n",
       "      <td>0.462388</td>\n",
       "      <td>0.239599</td>\n",
       "      <td>0.098698</td>\n",
       "      <td>0.363787</td>\n",
       "      <td>...</td>\n",
       "      <td>-0.018307</td>\n",
       "      <td>0.277838</td>\n",
       "      <td>-0.110474</td>\n",
       "      <td>0.066928</td>\n",
       "      <td>0.128539</td>\n",
       "      <td>-0.189115</td>\n",
       "      <td>0.133558</td>\n",
       "      <td>-0.021053</td>\n",
       "      <td>149.62</td>\n",
       "      <td>0</td>\n",
       "    </tr>\n",
       "    <tr>\n",
       "      <th>1</th>\n",
       "      <td>0.0</td>\n",
       "      <td>1.191857</td>\n",
       "      <td>0.266151</td>\n",
       "      <td>0.166480</td>\n",
       "      <td>0.448154</td>\n",
       "      <td>0.060018</td>\n",
       "      <td>-0.082361</td>\n",
       "      <td>-0.078803</td>\n",
       "      <td>0.085102</td>\n",
       "      <td>-0.255425</td>\n",
       "      <td>...</td>\n",
       "      <td>-0.225775</td>\n",
       "      <td>-0.638672</td>\n",
       "      <td>0.101288</td>\n",
       "      <td>-0.339846</td>\n",
       "      <td>0.167170</td>\n",
       "      <td>0.125895</td>\n",
       "      <td>-0.008983</td>\n",
       "      <td>0.014724</td>\n",
       "      <td>2.69</td>\n",
       "      <td>0</td>\n",
       "    </tr>\n",
       "    <tr>\n",
       "      <th>2</th>\n",
       "      <td>1.0</td>\n",
       "      <td>-1.358354</td>\n",
       "      <td>-1.340163</td>\n",
       "      <td>1.773209</td>\n",
       "      <td>0.379780</td>\n",
       "      <td>-0.503198</td>\n",
       "      <td>1.800499</td>\n",
       "      <td>0.791461</td>\n",
       "      <td>0.247676</td>\n",
       "      <td>-1.514654</td>\n",
       "      <td>...</td>\n",
       "      <td>0.247998</td>\n",
       "      <td>0.771679</td>\n",
       "      <td>0.909412</td>\n",
       "      <td>-0.689281</td>\n",
       "      <td>-0.327642</td>\n",
       "      <td>-0.139097</td>\n",
       "      <td>-0.055353</td>\n",
       "      <td>-0.059752</td>\n",
       "      <td>378.66</td>\n",
       "      <td>0</td>\n",
       "    </tr>\n",
       "    <tr>\n",
       "      <th>3</th>\n",
       "      <td>1.0</td>\n",
       "      <td>-0.966272</td>\n",
       "      <td>-0.185226</td>\n",
       "      <td>1.792993</td>\n",
       "      <td>-0.863291</td>\n",
       "      <td>-0.010309</td>\n",
       "      <td>1.247203</td>\n",
       "      <td>0.237609</td>\n",
       "      <td>0.377436</td>\n",
       "      <td>-1.387024</td>\n",
       "      <td>...</td>\n",
       "      <td>-0.108300</td>\n",
       "      <td>0.005274</td>\n",
       "      <td>-0.190321</td>\n",
       "      <td>-1.175575</td>\n",
       "      <td>0.647376</td>\n",
       "      <td>-0.221929</td>\n",
       "      <td>0.062723</td>\n",
       "      <td>0.061458</td>\n",
       "      <td>123.50</td>\n",
       "      <td>0</td>\n",
       "    </tr>\n",
       "    <tr>\n",
       "      <th>4</th>\n",
       "      <td>2.0</td>\n",
       "      <td>-1.158233</td>\n",
       "      <td>0.877737</td>\n",
       "      <td>1.548718</td>\n",
       "      <td>0.403034</td>\n",
       "      <td>-0.407193</td>\n",
       "      <td>0.095921</td>\n",
       "      <td>0.592941</td>\n",
       "      <td>-0.270533</td>\n",
       "      <td>0.817739</td>\n",
       "      <td>...</td>\n",
       "      <td>-0.009431</td>\n",
       "      <td>0.798278</td>\n",
       "      <td>-0.137458</td>\n",
       "      <td>0.141267</td>\n",
       "      <td>-0.206010</td>\n",
       "      <td>0.502292</td>\n",
       "      <td>0.219422</td>\n",
       "      <td>0.215153</td>\n",
       "      <td>69.99</td>\n",
       "      <td>0</td>\n",
       "    </tr>\n",
       "  </tbody>\n",
       "</table>\n",
       "<p>5 rows × 31 columns</p>\n",
       "</div>"
      ],
      "text/plain": [
       "   Time        V1        V2        V3        V4        V5        V6        V7  \\\n",
       "0   0.0 -1.359807 -0.072781  2.536347  1.378155 -0.338321  0.462388  0.239599   \n",
       "1   0.0  1.191857  0.266151  0.166480  0.448154  0.060018 -0.082361 -0.078803   \n",
       "2   1.0 -1.358354 -1.340163  1.773209  0.379780 -0.503198  1.800499  0.791461   \n",
       "3   1.0 -0.966272 -0.185226  1.792993 -0.863291 -0.010309  1.247203  0.237609   \n",
       "4   2.0 -1.158233  0.877737  1.548718  0.403034 -0.407193  0.095921  0.592941   \n",
       "\n",
       "         V8        V9  ...       V21       V22       V23       V24       V25  \\\n",
       "0  0.098698  0.363787  ... -0.018307  0.277838 -0.110474  0.066928  0.128539   \n",
       "1  0.085102 -0.255425  ... -0.225775 -0.638672  0.101288 -0.339846  0.167170   \n",
       "2  0.247676 -1.514654  ...  0.247998  0.771679  0.909412 -0.689281 -0.327642   \n",
       "3  0.377436 -1.387024  ... -0.108300  0.005274 -0.190321 -1.175575  0.647376   \n",
       "4 -0.270533  0.817739  ... -0.009431  0.798278 -0.137458  0.141267 -0.206010   \n",
       "\n",
       "        V26       V27       V28  Amount  Class  \n",
       "0 -0.189115  0.133558 -0.021053  149.62      0  \n",
       "1  0.125895 -0.008983  0.014724    2.69      0  \n",
       "2 -0.139097 -0.055353 -0.059752  378.66      0  \n",
       "3 -0.221929  0.062723  0.061458  123.50      0  \n",
       "4  0.502292  0.219422  0.215153   69.99      0  \n",
       "\n",
       "[5 rows x 31 columns]"
      ]
     },
     "execution_count": 3,
     "metadata": {},
     "output_type": "execute_result"
    }
   ],
   "source": [
    "# Verificando as primeiras cinco linhas\n",
    "dataset.head()"
   ]
  },
  {
   "cell_type": "markdown",
   "id": "8b177425",
   "metadata": {},
   "source": [
    "# Análise Exploratória dos dados"
   ]
  },
  {
   "cell_type": "code",
   "execution_count": 4,
   "id": "d0dc631c",
   "metadata": {},
   "outputs": [
    {
     "name": "stdout",
     "output_type": "stream",
     "text": [
      "<class 'pandas.core.frame.DataFrame'>\n",
      "RangeIndex: 284807 entries, 0 to 284806\n",
      "Data columns (total 31 columns):\n",
      " #   Column  Non-Null Count   Dtype  \n",
      "---  ------  --------------   -----  \n",
      " 0   Time    284807 non-null  float64\n",
      " 1   V1      284807 non-null  float64\n",
      " 2   V2      284807 non-null  float64\n",
      " 3   V3      284807 non-null  float64\n",
      " 4   V4      284807 non-null  float64\n",
      " 5   V5      284807 non-null  float64\n",
      " 6   V6      284807 non-null  float64\n",
      " 7   V7      284807 non-null  float64\n",
      " 8   V8      284807 non-null  float64\n",
      " 9   V9      284807 non-null  float64\n",
      " 10  V10     284807 non-null  float64\n",
      " 11  V11     284807 non-null  float64\n",
      " 12  V12     284807 non-null  float64\n",
      " 13  V13     284807 non-null  float64\n",
      " 14  V14     284807 non-null  float64\n",
      " 15  V15     284807 non-null  float64\n",
      " 16  V16     284807 non-null  float64\n",
      " 17  V17     284807 non-null  float64\n",
      " 18  V18     284807 non-null  float64\n",
      " 19  V19     284807 non-null  float64\n",
      " 20  V20     284807 non-null  float64\n",
      " 21  V21     284807 non-null  float64\n",
      " 22  V22     284807 non-null  float64\n",
      " 23  V23     284807 non-null  float64\n",
      " 24  V24     284807 non-null  float64\n",
      " 25  V25     284807 non-null  float64\n",
      " 26  V26     284807 non-null  float64\n",
      " 27  V27     284807 non-null  float64\n",
      " 28  V28     284807 non-null  float64\n",
      " 29  Amount  284807 non-null  float64\n",
      " 30  Class   284807 non-null  int64  \n",
      "dtypes: float64(30), int64(1)\n",
      "memory usage: 67.4 MB\n"
     ]
    }
   ],
   "source": [
    "# Verificando as informações dos objetos das colunas \n",
    "dataset.info()"
   ]
  },
  {
   "cell_type": "code",
   "execution_count": 5,
   "id": "18bf8b9c",
   "metadata": {},
   "outputs": [
    {
     "data": {
      "text/plain": [
       "Time      0\n",
       "V1        0\n",
       "V2        0\n",
       "V3        0\n",
       "V4        0\n",
       "V5        0\n",
       "V6        0\n",
       "V7        0\n",
       "V8        0\n",
       "V9        0\n",
       "V10       0\n",
       "V11       0\n",
       "V12       0\n",
       "V13       0\n",
       "V14       0\n",
       "V15       0\n",
       "V16       0\n",
       "V17       0\n",
       "V18       0\n",
       "V19       0\n",
       "V20       0\n",
       "V21       0\n",
       "V22       0\n",
       "V23       0\n",
       "V24       0\n",
       "V25       0\n",
       "V26       0\n",
       "V27       0\n",
       "V28       0\n",
       "Amount    0\n",
       "Class     0\n",
       "dtype: int64"
      ]
     },
     "execution_count": 5,
     "metadata": {},
     "output_type": "execute_result"
    }
   ],
   "source": [
    "#Checar se temos valores NA nas colunas do dataset\n",
    "dataset.isnull().sum()"
   ]
  },
  {
   "cell_type": "markdown",
   "id": "92654ce0",
   "metadata": {},
   "source": [
    "### Nota-se acima que não há nenhuma covariavel que apresenta valores nulos no conjunto de dados."
   ]
  },
  {
   "cell_type": "code",
   "execution_count": 6,
   "id": "9d417916",
   "metadata": {},
   "outputs": [
    {
     "data": {
      "text/html": [
       "<div>\n",
       "<style scoped>\n",
       "    .dataframe tbody tr th:only-of-type {\n",
       "        vertical-align: middle;\n",
       "    }\n",
       "\n",
       "    .dataframe tbody tr th {\n",
       "        vertical-align: top;\n",
       "    }\n",
       "\n",
       "    .dataframe thead th {\n",
       "        text-align: right;\n",
       "    }\n",
       "</style>\n",
       "<table border=\"1\" class=\"dataframe\">\n",
       "  <thead>\n",
       "    <tr style=\"text-align: right;\">\n",
       "      <th></th>\n",
       "      <th>Time</th>\n",
       "      <th>V1</th>\n",
       "      <th>V2</th>\n",
       "      <th>V3</th>\n",
       "      <th>V4</th>\n",
       "      <th>V5</th>\n",
       "      <th>V6</th>\n",
       "      <th>V7</th>\n",
       "      <th>V8</th>\n",
       "      <th>V9</th>\n",
       "      <th>...</th>\n",
       "      <th>V21</th>\n",
       "      <th>V22</th>\n",
       "      <th>V23</th>\n",
       "      <th>V24</th>\n",
       "      <th>V25</th>\n",
       "      <th>V26</th>\n",
       "      <th>V27</th>\n",
       "      <th>V28</th>\n",
       "      <th>Amount</th>\n",
       "      <th>Class</th>\n",
       "    </tr>\n",
       "  </thead>\n",
       "  <tbody>\n",
       "    <tr>\n",
       "      <th>count</th>\n",
       "      <td>284807.000000</td>\n",
       "      <td>2.848070e+05</td>\n",
       "      <td>2.848070e+05</td>\n",
       "      <td>2.848070e+05</td>\n",
       "      <td>2.848070e+05</td>\n",
       "      <td>2.848070e+05</td>\n",
       "      <td>2.848070e+05</td>\n",
       "      <td>2.848070e+05</td>\n",
       "      <td>2.848070e+05</td>\n",
       "      <td>2.848070e+05</td>\n",
       "      <td>...</td>\n",
       "      <td>2.848070e+05</td>\n",
       "      <td>2.848070e+05</td>\n",
       "      <td>2.848070e+05</td>\n",
       "      <td>2.848070e+05</td>\n",
       "      <td>2.848070e+05</td>\n",
       "      <td>2.848070e+05</td>\n",
       "      <td>2.848070e+05</td>\n",
       "      <td>2.848070e+05</td>\n",
       "      <td>284807.000000</td>\n",
       "      <td>284807.000000</td>\n",
       "    </tr>\n",
       "    <tr>\n",
       "      <th>mean</th>\n",
       "      <td>94813.859575</td>\n",
       "      <td>3.918649e-15</td>\n",
       "      <td>5.682686e-16</td>\n",
       "      <td>-8.761736e-15</td>\n",
       "      <td>2.811118e-15</td>\n",
       "      <td>-1.552103e-15</td>\n",
       "      <td>2.040130e-15</td>\n",
       "      <td>-1.698953e-15</td>\n",
       "      <td>-1.893285e-16</td>\n",
       "      <td>-3.147640e-15</td>\n",
       "      <td>...</td>\n",
       "      <td>1.473120e-16</td>\n",
       "      <td>8.042109e-16</td>\n",
       "      <td>5.282512e-16</td>\n",
       "      <td>4.456271e-15</td>\n",
       "      <td>1.426896e-15</td>\n",
       "      <td>1.701640e-15</td>\n",
       "      <td>-3.662252e-16</td>\n",
       "      <td>-1.217809e-16</td>\n",
       "      <td>88.349619</td>\n",
       "      <td>0.001727</td>\n",
       "    </tr>\n",
       "    <tr>\n",
       "      <th>std</th>\n",
       "      <td>47488.145955</td>\n",
       "      <td>1.958696e+00</td>\n",
       "      <td>1.651309e+00</td>\n",
       "      <td>1.516255e+00</td>\n",
       "      <td>1.415869e+00</td>\n",
       "      <td>1.380247e+00</td>\n",
       "      <td>1.332271e+00</td>\n",
       "      <td>1.237094e+00</td>\n",
       "      <td>1.194353e+00</td>\n",
       "      <td>1.098632e+00</td>\n",
       "      <td>...</td>\n",
       "      <td>7.345240e-01</td>\n",
       "      <td>7.257016e-01</td>\n",
       "      <td>6.244603e-01</td>\n",
       "      <td>6.056471e-01</td>\n",
       "      <td>5.212781e-01</td>\n",
       "      <td>4.822270e-01</td>\n",
       "      <td>4.036325e-01</td>\n",
       "      <td>3.300833e-01</td>\n",
       "      <td>250.120109</td>\n",
       "      <td>0.041527</td>\n",
       "    </tr>\n",
       "    <tr>\n",
       "      <th>min</th>\n",
       "      <td>0.000000</td>\n",
       "      <td>-5.640751e+01</td>\n",
       "      <td>-7.271573e+01</td>\n",
       "      <td>-4.832559e+01</td>\n",
       "      <td>-5.683171e+00</td>\n",
       "      <td>-1.137433e+02</td>\n",
       "      <td>-2.616051e+01</td>\n",
       "      <td>-4.355724e+01</td>\n",
       "      <td>-7.321672e+01</td>\n",
       "      <td>-1.343407e+01</td>\n",
       "      <td>...</td>\n",
       "      <td>-3.483038e+01</td>\n",
       "      <td>-1.093314e+01</td>\n",
       "      <td>-4.480774e+01</td>\n",
       "      <td>-2.836627e+00</td>\n",
       "      <td>-1.029540e+01</td>\n",
       "      <td>-2.604551e+00</td>\n",
       "      <td>-2.256568e+01</td>\n",
       "      <td>-1.543008e+01</td>\n",
       "      <td>0.000000</td>\n",
       "      <td>0.000000</td>\n",
       "    </tr>\n",
       "    <tr>\n",
       "      <th>25%</th>\n",
       "      <td>54201.500000</td>\n",
       "      <td>-9.203734e-01</td>\n",
       "      <td>-5.985499e-01</td>\n",
       "      <td>-8.903648e-01</td>\n",
       "      <td>-8.486401e-01</td>\n",
       "      <td>-6.915971e-01</td>\n",
       "      <td>-7.682956e-01</td>\n",
       "      <td>-5.540759e-01</td>\n",
       "      <td>-2.086297e-01</td>\n",
       "      <td>-6.430976e-01</td>\n",
       "      <td>...</td>\n",
       "      <td>-2.283949e-01</td>\n",
       "      <td>-5.423504e-01</td>\n",
       "      <td>-1.618463e-01</td>\n",
       "      <td>-3.545861e-01</td>\n",
       "      <td>-3.171451e-01</td>\n",
       "      <td>-3.269839e-01</td>\n",
       "      <td>-7.083953e-02</td>\n",
       "      <td>-5.295979e-02</td>\n",
       "      <td>5.600000</td>\n",
       "      <td>0.000000</td>\n",
       "    </tr>\n",
       "    <tr>\n",
       "      <th>50%</th>\n",
       "      <td>84692.000000</td>\n",
       "      <td>1.810880e-02</td>\n",
       "      <td>6.548556e-02</td>\n",
       "      <td>1.798463e-01</td>\n",
       "      <td>-1.984653e-02</td>\n",
       "      <td>-5.433583e-02</td>\n",
       "      <td>-2.741871e-01</td>\n",
       "      <td>4.010308e-02</td>\n",
       "      <td>2.235804e-02</td>\n",
       "      <td>-5.142873e-02</td>\n",
       "      <td>...</td>\n",
       "      <td>-2.945017e-02</td>\n",
       "      <td>6.781943e-03</td>\n",
       "      <td>-1.119293e-02</td>\n",
       "      <td>4.097606e-02</td>\n",
       "      <td>1.659350e-02</td>\n",
       "      <td>-5.213911e-02</td>\n",
       "      <td>1.342146e-03</td>\n",
       "      <td>1.124383e-02</td>\n",
       "      <td>22.000000</td>\n",
       "      <td>0.000000</td>\n",
       "    </tr>\n",
       "    <tr>\n",
       "      <th>75%</th>\n",
       "      <td>139320.500000</td>\n",
       "      <td>1.315642e+00</td>\n",
       "      <td>8.037239e-01</td>\n",
       "      <td>1.027196e+00</td>\n",
       "      <td>7.433413e-01</td>\n",
       "      <td>6.119264e-01</td>\n",
       "      <td>3.985649e-01</td>\n",
       "      <td>5.704361e-01</td>\n",
       "      <td>3.273459e-01</td>\n",
       "      <td>5.971390e-01</td>\n",
       "      <td>...</td>\n",
       "      <td>1.863772e-01</td>\n",
       "      <td>5.285536e-01</td>\n",
       "      <td>1.476421e-01</td>\n",
       "      <td>4.395266e-01</td>\n",
       "      <td>3.507156e-01</td>\n",
       "      <td>2.409522e-01</td>\n",
       "      <td>9.104512e-02</td>\n",
       "      <td>7.827995e-02</td>\n",
       "      <td>77.165000</td>\n",
       "      <td>0.000000</td>\n",
       "    </tr>\n",
       "    <tr>\n",
       "      <th>max</th>\n",
       "      <td>172792.000000</td>\n",
       "      <td>2.454930e+00</td>\n",
       "      <td>2.205773e+01</td>\n",
       "      <td>9.382558e+00</td>\n",
       "      <td>1.687534e+01</td>\n",
       "      <td>3.480167e+01</td>\n",
       "      <td>7.330163e+01</td>\n",
       "      <td>1.205895e+02</td>\n",
       "      <td>2.000721e+01</td>\n",
       "      <td>1.559499e+01</td>\n",
       "      <td>...</td>\n",
       "      <td>2.720284e+01</td>\n",
       "      <td>1.050309e+01</td>\n",
       "      <td>2.252841e+01</td>\n",
       "      <td>4.584549e+00</td>\n",
       "      <td>7.519589e+00</td>\n",
       "      <td>3.517346e+00</td>\n",
       "      <td>3.161220e+01</td>\n",
       "      <td>3.384781e+01</td>\n",
       "      <td>25691.160000</td>\n",
       "      <td>1.000000</td>\n",
       "    </tr>\n",
       "  </tbody>\n",
       "</table>\n",
       "<p>8 rows × 31 columns</p>\n",
       "</div>"
      ],
      "text/plain": [
       "                Time            V1            V2            V3            V4  \\\n",
       "count  284807.000000  2.848070e+05  2.848070e+05  2.848070e+05  2.848070e+05   \n",
       "mean    94813.859575  3.918649e-15  5.682686e-16 -8.761736e-15  2.811118e-15   \n",
       "std     47488.145955  1.958696e+00  1.651309e+00  1.516255e+00  1.415869e+00   \n",
       "min         0.000000 -5.640751e+01 -7.271573e+01 -4.832559e+01 -5.683171e+00   \n",
       "25%     54201.500000 -9.203734e-01 -5.985499e-01 -8.903648e-01 -8.486401e-01   \n",
       "50%     84692.000000  1.810880e-02  6.548556e-02  1.798463e-01 -1.984653e-02   \n",
       "75%    139320.500000  1.315642e+00  8.037239e-01  1.027196e+00  7.433413e-01   \n",
       "max    172792.000000  2.454930e+00  2.205773e+01  9.382558e+00  1.687534e+01   \n",
       "\n",
       "                 V5            V6            V7            V8            V9  \\\n",
       "count  2.848070e+05  2.848070e+05  2.848070e+05  2.848070e+05  2.848070e+05   \n",
       "mean  -1.552103e-15  2.040130e-15 -1.698953e-15 -1.893285e-16 -3.147640e-15   \n",
       "std    1.380247e+00  1.332271e+00  1.237094e+00  1.194353e+00  1.098632e+00   \n",
       "min   -1.137433e+02 -2.616051e+01 -4.355724e+01 -7.321672e+01 -1.343407e+01   \n",
       "25%   -6.915971e-01 -7.682956e-01 -5.540759e-01 -2.086297e-01 -6.430976e-01   \n",
       "50%   -5.433583e-02 -2.741871e-01  4.010308e-02  2.235804e-02 -5.142873e-02   \n",
       "75%    6.119264e-01  3.985649e-01  5.704361e-01  3.273459e-01  5.971390e-01   \n",
       "max    3.480167e+01  7.330163e+01  1.205895e+02  2.000721e+01  1.559499e+01   \n",
       "\n",
       "       ...           V21           V22           V23           V24  \\\n",
       "count  ...  2.848070e+05  2.848070e+05  2.848070e+05  2.848070e+05   \n",
       "mean   ...  1.473120e-16  8.042109e-16  5.282512e-16  4.456271e-15   \n",
       "std    ...  7.345240e-01  7.257016e-01  6.244603e-01  6.056471e-01   \n",
       "min    ... -3.483038e+01 -1.093314e+01 -4.480774e+01 -2.836627e+00   \n",
       "25%    ... -2.283949e-01 -5.423504e-01 -1.618463e-01 -3.545861e-01   \n",
       "50%    ... -2.945017e-02  6.781943e-03 -1.119293e-02  4.097606e-02   \n",
       "75%    ...  1.863772e-01  5.285536e-01  1.476421e-01  4.395266e-01   \n",
       "max    ...  2.720284e+01  1.050309e+01  2.252841e+01  4.584549e+00   \n",
       "\n",
       "                V25           V26           V27           V28         Amount  \\\n",
       "count  2.848070e+05  2.848070e+05  2.848070e+05  2.848070e+05  284807.000000   \n",
       "mean   1.426896e-15  1.701640e-15 -3.662252e-16 -1.217809e-16      88.349619   \n",
       "std    5.212781e-01  4.822270e-01  4.036325e-01  3.300833e-01     250.120109   \n",
       "min   -1.029540e+01 -2.604551e+00 -2.256568e+01 -1.543008e+01       0.000000   \n",
       "25%   -3.171451e-01 -3.269839e-01 -7.083953e-02 -5.295979e-02       5.600000   \n",
       "50%    1.659350e-02 -5.213911e-02  1.342146e-03  1.124383e-02      22.000000   \n",
       "75%    3.507156e-01  2.409522e-01  9.104512e-02  7.827995e-02      77.165000   \n",
       "max    7.519589e+00  3.517346e+00  3.161220e+01  3.384781e+01   25691.160000   \n",
       "\n",
       "               Class  \n",
       "count  284807.000000  \n",
       "mean        0.001727  \n",
       "std         0.041527  \n",
       "min         0.000000  \n",
       "25%         0.000000  \n",
       "50%         0.000000  \n",
       "75%         0.000000  \n",
       "max         1.000000  \n",
       "\n",
       "[8 rows x 31 columns]"
      ]
     },
     "execution_count": 6,
     "metadata": {},
     "output_type": "execute_result"
    }
   ],
   "source": [
    "#Estatísticas descritivas das colunas do dataset\n",
    "dataset.describe()"
   ]
  },
  {
   "cell_type": "code",
   "execution_count": 7,
   "id": "ed62f62a",
   "metadata": {},
   "outputs": [
    {
     "data": {
      "image/png": "[encoded data removed]",
      "text/plain": [
       "<Figure size 1440x2880 with 36 Axes>"
      ]
     },
     "metadata": {
      "needs_background": "light"
     },
     "output_type": "display_data"
    }
   ],
   "source": [
    "# Vamos utilizar o gráfico de histograma para verificar o comportamento dos dados\n",
    "dataset.hist(figsize = (20,40))\n",
    "plt.show()"
   ]
  },
  {
   "cell_type": "markdown",
   "id": "260de97a",
   "metadata": {},
   "source": [
    "### Apesar de não termos a real situação das variáveis acima (dado que as mesmas são componentes principais gerados do conjunto de dados original), temos que o comportamento dos dados possuem poucas variações e a priori não mostram nenhuma presença de valores discrepantes."
   ]
  },
  {
   "cell_type": "code",
   "execution_count": 8,
   "id": "2995768c",
   "metadata": {},
   "outputs": [
    {
     "data": {
      "text/plain": [
       "<AxesSubplot:xlabel='Class', ylabel='count'>"
      ]
     },
     "execution_count": 8,
     "metadata": {},
     "output_type": "execute_result"
    },
    {
     "data": {
      "image/png": "[encoded data removed]",
      "text/plain": [
       "<Figure size 432x288 with 1 Axes>"
      ]
     },
     "metadata": {},
     "output_type": "display_data"
    }
   ],
   "source": [
    "sns.set_style('whitegrid')\n",
    "sns.countplot(x='Class',data=dataset,palette='RdBu_r')"
   ]
  },
  {
   "cell_type": "markdown",
   "id": "263fe53d",
   "metadata": {},
   "source": [
    "### O gráfico de barras acima, reporta que os dados estão desbalanceados, isto é, é necessário que um  tratamento especial seja dado antes da utilização de modelos de Machine Learning."
   ]
  },
  {
   "cell_type": "code",
   "execution_count": 9,
   "id": "7a85a152",
   "metadata": {},
   "outputs": [
    {
     "name": "stdout",
     "output_type": "stream",
     "text": [
      "Total de casos registrados:  284807\n",
      "Total de casos de fraudes registrados:  492\n",
      "Total de casos de não fraudes registrados:  284315\n",
      "Percentual de casos de fraudes registrados:  0.17 %\n"
     ]
    }
   ],
   "source": [
    "# Vamos analisar o número de transações, quantas são e não são consideradas fraudes, considerando as informações passadas no conjunto de dados\n",
    "# Número de todos os casos registrados\n",
    "\n",
    "cases = len(dataset)\n",
    "# Número de fraudes registradas\n",
    "fraud_count = len(dataset[dataset.Class == 1])\n",
    "# Número de não fraudes registradas\n",
    "nonfraud_count = len(dataset[dataset.Class == 0])\n",
    "# Percentual de casos fraudulentos\n",
    "fraud_percentage = round((fraud_count/cases)*100, ndigits = 2)\n",
    "\n",
    "print(\"Total de casos registrados: \", cases)\n",
    "print(\"Total de casos de fraudes registrados: \", fraud_count)\n",
    "print(\"Total de casos de não fraudes registrados: \", nonfraud_count)\n",
    "print(\"Percentual de casos de fraudes registrados: \", fraud_percentage, \"%\")"
   ]
  },
  {
   "cell_type": "markdown",
   "id": "185d4a2f",
   "metadata": {},
   "source": [
    "### Em geral, o número de transações fraudelentas em conjunto de dados de bancos são desbalanceados, ou seja, apresentam mais transações sem fraude. No entanto, é importante que o banco busque maneiras reduzir cada vez mais esse crime cibernétigo, pois, causa atraso em um parcela de clientes no caso em questão, tmos que apenas 492 transações no total de 284807 apresetaram fraude, logo a busca por modelos que identifique a priori e reporte ao usuário e ao banco essa ação criminosa tornam os serviços do banco mais atrativos para conectar novas clientes."
   ]
  },
  {
   "cell_type": "code",
   "execution_count": 10,
   "id": "d2613f1f",
   "metadata": {},
   "outputs": [
    {
     "name": "stdout",
     "output_type": "stream",
     "text": [
      "Volores total das transações:  count    284807.000000\n",
      "mean         88.349619\n",
      "std         250.120109\n",
      "min           0.000000\n",
      "25%           5.600000\n",
      "50%          22.000000\n",
      "75%          77.165000\n",
      "max       25691.160000\n",
      "Name: Amount, dtype: float64\n",
      "\n",
      "Valores de Fraude:  count     492.000000\n",
      "mean      122.211321\n",
      "std       256.683288\n",
      "min         0.000000\n",
      "25%         1.000000\n",
      "50%         9.250000\n",
      "75%       105.890000\n",
      "max      2125.870000\n",
      "Name: Amount, dtype: float64\n",
      "\n",
      "Valores de não fraude:  count    284315.000000\n",
      "mean         88.291022\n",
      "std         250.105092\n",
      "min           0.000000\n",
      "25%           5.650000\n",
      "50%          22.000000\n",
      "75%          77.050000\n",
      "max       25691.160000\n",
      "Name: Amount, dtype: float64\n",
      "\n",
      "Total de dinheiro envolvido nos casos de fraude:  60127.97\n"
     ]
    }
   ],
   "source": [
    "# Vamos verificar estatísticas relacionadas ao valores que é são registrados para transações gerais, transações fraudulentas e não fraudulentas\n",
    "\n",
    "# all amounts\n",
    "print(\"Volores total das transações: \", dataset.Amount.describe())\n",
    "\n",
    "# empty row\n",
    "print()\n",
    "\n",
    "# Fraud-amounts: analyze Amount where class == 1\n",
    "fraud_cases = dataset[dataset.Class == 1].Amount\n",
    "print(\"Valores de Fraude: \", fraud_cases.describe())\n",
    "\n",
    "# empty row\n",
    "print()\n",
    "\n",
    "# Non-Fraud-amounts: analyze Amount where class == 0\n",
    "nonfraud_cases =  dataset[dataset.Class == 0].Amount\n",
    "print(\"Valores de não fraude: \", nonfraud_cases.describe())\n",
    "\n",
    "# empty row\n",
    "print()\n",
    "\n",
    "# median of fraud cases (just to have it later as variable)\n",
    "median_fraud_amount = dataset[dataset.Class == 1].Amount.median()\n",
    "\n",
    "\n",
    "# Total de dinheiro envolvido em casos de fraude\n",
    "fraud_money = sum(fraud_cases)\n",
    "print(\"Total de dinheiro envolvido nos casos de fraude: \", round(fraud_money, 2))"
   ]
  },
  {
   "cell_type": "markdown",
   "id": "440326b0",
   "metadata": {},
   "source": [
    "### Com relação aos valores movimentados nans transações, pode-se notar que em média transações fraudulentas movimentam mais valores, isto é, pode acarretar danos catastróficos para os clientes. Além disso, o valor total envolvido nessa fraudes foi de 60127.97. Dessa forma, o objetivo deste projeto é apresentar um modelo utilizando inteligência artificial para detectar previamente se uma transação é ou não fraudulenta.  "
   ]
  },
  {
   "cell_type": "code",
   "execution_count": 11,
   "id": "3adedc34",
   "metadata": {},
   "outputs": [
    {
     "name": "stdout",
     "output_type": "stream",
     "text": [
      "Tempo do total das transações:  count    284807.000000\n",
      "mean      94813.859575\n",
      "std       47488.145955\n",
      "min           0.000000\n",
      "25%       54201.500000\n",
      "50%       84692.000000\n",
      "75%      139320.500000\n",
      "max      172792.000000\n",
      "Name: Time, dtype: float64\n",
      "\n",
      "Tempo de Fraude:  count       492.000000\n",
      "mean      80746.806911\n",
      "std       47835.365138\n",
      "min         406.000000\n",
      "25%       41241.500000\n",
      "50%       75568.500000\n",
      "75%      128483.000000\n",
      "max      170348.000000\n",
      "Name: Time, dtype: float64\n",
      "\n",
      "Tempo de não fraude:  count    284315.000000\n",
      "mean      94838.202258\n",
      "std       47484.015786\n",
      "min           0.000000\n",
      "25%       54230.000000\n",
      "50%       84711.000000\n",
      "75%      139333.000000\n",
      "max      172792.000000\n",
      "Name: Time, dtype: float64\n",
      "\n",
      "Total de tempo nos casos de fraude:  39727429.0\n"
     ]
    }
   ],
   "source": [
    "# Vamos verificar estatísticas relacionadas ao tempos gasto em transações gerais,\n",
    "# transações fraudulentas e não fraudulentas\n",
    "\n",
    "# Considerando o tempo de todas as transações\n",
    "print(\"Tempo do total das transações: \", dataset.Time.describe())\n",
    "\n",
    "# empty row\n",
    "print()\n",
    "\n",
    "# Considerando o tempo gasto em transações fraudulentas\n",
    "fraud_cases = dataset[dataset.Class == 1].Time\n",
    "print(\"Tempo de Fraude: \", fraud_cases.describe())\n",
    "\n",
    "# empty row\n",
    "print()\n",
    "\n",
    "# Considerando o tempo gasto em transações não fraudulentas\n",
    "nonfraud_cases =  dataset[dataset.Class == 0].Time\n",
    "print(\"Tempo de não fraude: \", nonfraud_cases.describe())\n",
    "\n",
    "# empty row\n",
    "print()\n",
    "\n",
    "\n",
    "# Total de tempo dos casos de fraude\n",
    "fraud_time = sum(fraud_cases)\n",
    "print(\"Total de tempo nos casos de fraude: \", round(fraud_time, 2))\n"
   ]
  },
  {
   "cell_type": "markdown",
   "id": "7c31bc34",
   "metadata": {},
   "source": [
    "### O tempo gasto em transações fraudulentas em média é menor do que as transações não fraudulentas, isto é esperado, pois quando o crime é cometido o infrator deseja realizar o crime de maneira rápida."
   ]
  },
  {
   "cell_type": "markdown",
   "id": "7ef481a1",
   "metadata": {},
   "source": [
    "# Pré- Processamento dos dados "
   ]
  },
  {
   "cell_type": "code",
   "execution_count": 12,
   "id": "6d1e5e21",
   "metadata": {},
   "outputs": [
    {
     "data": {
      "text/html": [
       "<div>\n",
       "<style scoped>\n",
       "    .dataframe tbody tr th:only-of-type {\n",
       "        vertical-align: middle;\n",
       "    }\n",
       "\n",
       "    .dataframe tbody tr th {\n",
       "        vertical-align: top;\n",
       "    }\n",
       "\n",
       "    .dataframe thead th {\n",
       "        text-align: right;\n",
       "    }\n",
       "</style>\n",
       "<table border=\"1\" class=\"dataframe\">\n",
       "  <thead>\n",
       "    <tr style=\"text-align: right;\">\n",
       "      <th></th>\n",
       "      <th>Time</th>\n",
       "      <th>V1</th>\n",
       "      <th>V2</th>\n",
       "      <th>V3</th>\n",
       "      <th>V4</th>\n",
       "      <th>V5</th>\n",
       "      <th>V6</th>\n",
       "      <th>V7</th>\n",
       "      <th>V8</th>\n",
       "      <th>V9</th>\n",
       "      <th>...</th>\n",
       "      <th>V20</th>\n",
       "      <th>V21</th>\n",
       "      <th>V22</th>\n",
       "      <th>V23</th>\n",
       "      <th>V24</th>\n",
       "      <th>V25</th>\n",
       "      <th>V26</th>\n",
       "      <th>V27</th>\n",
       "      <th>V28</th>\n",
       "      <th>Amount</th>\n",
       "    </tr>\n",
       "  </thead>\n",
       "  <tbody>\n",
       "    <tr>\n",
       "      <th>0</th>\n",
       "      <td>82450.0</td>\n",
       "      <td>1.314539</td>\n",
       "      <td>0.590643</td>\n",
       "      <td>-0.666593</td>\n",
       "      <td>0.716564</td>\n",
       "      <td>0.301978</td>\n",
       "      <td>-1.125467</td>\n",
       "      <td>0.388881</td>\n",
       "      <td>-0.288390</td>\n",
       "      <td>-0.132137</td>\n",
       "      <td>...</td>\n",
       "      <td>-0.058040</td>\n",
       "      <td>-0.170307</td>\n",
       "      <td>-0.429655</td>\n",
       "      <td>-0.141341</td>\n",
       "      <td>-0.200195</td>\n",
       "      <td>0.639491</td>\n",
       "      <td>0.399476</td>\n",
       "      <td>-0.034321</td>\n",
       "      <td>0.031692</td>\n",
       "      <td>0.76</td>\n",
       "    </tr>\n",
       "    <tr>\n",
       "      <th>1</th>\n",
       "      <td>50554.0</td>\n",
       "      <td>-0.798672</td>\n",
       "      <td>1.185093</td>\n",
       "      <td>0.904547</td>\n",
       "      <td>0.694584</td>\n",
       "      <td>0.219041</td>\n",
       "      <td>-0.319295</td>\n",
       "      <td>0.495236</td>\n",
       "      <td>0.139269</td>\n",
       "      <td>-0.760214</td>\n",
       "      <td>...</td>\n",
       "      <td>-0.081298</td>\n",
       "      <td>0.202287</td>\n",
       "      <td>0.578699</td>\n",
       "      <td>-0.092245</td>\n",
       "      <td>0.013723</td>\n",
       "      <td>-0.246466</td>\n",
       "      <td>-0.380057</td>\n",
       "      <td>-0.396030</td>\n",
       "      <td>-0.112901</td>\n",
       "      <td>4.18</td>\n",
       "    </tr>\n",
       "    <tr>\n",
       "      <th>2</th>\n",
       "      <td>55125.0</td>\n",
       "      <td>-0.391128</td>\n",
       "      <td>-0.245540</td>\n",
       "      <td>1.122074</td>\n",
       "      <td>-1.308725</td>\n",
       "      <td>-0.639891</td>\n",
       "      <td>0.008678</td>\n",
       "      <td>-0.701304</td>\n",
       "      <td>-0.027315</td>\n",
       "      <td>-2.628854</td>\n",
       "      <td>...</td>\n",
       "      <td>0.065716</td>\n",
       "      <td>-0.133485</td>\n",
       "      <td>0.117403</td>\n",
       "      <td>-0.191748</td>\n",
       "      <td>-0.488642</td>\n",
       "      <td>-0.309774</td>\n",
       "      <td>0.008100</td>\n",
       "      <td>0.163716</td>\n",
       "      <td>0.239582</td>\n",
       "      <td>15.00</td>\n",
       "    </tr>\n",
       "    <tr>\n",
       "      <th>3</th>\n",
       "      <td>116572.0</td>\n",
       "      <td>-0.060302</td>\n",
       "      <td>1.065093</td>\n",
       "      <td>-0.987421</td>\n",
       "      <td>-0.029567</td>\n",
       "      <td>0.176376</td>\n",
       "      <td>-1.348539</td>\n",
       "      <td>0.775644</td>\n",
       "      <td>0.134843</td>\n",
       "      <td>-0.149734</td>\n",
       "      <td>...</td>\n",
       "      <td>-0.169706</td>\n",
       "      <td>0.355576</td>\n",
       "      <td>0.907570</td>\n",
       "      <td>-0.018454</td>\n",
       "      <td>-0.126269</td>\n",
       "      <td>-0.339923</td>\n",
       "      <td>-0.150285</td>\n",
       "      <td>-0.023634</td>\n",
       "      <td>0.042330</td>\n",
       "      <td>57.00</td>\n",
       "    </tr>\n",
       "    <tr>\n",
       "      <th>4</th>\n",
       "      <td>90434.0</td>\n",
       "      <td>1.848433</td>\n",
       "      <td>0.373364</td>\n",
       "      <td>0.269272</td>\n",
       "      <td>3.866438</td>\n",
       "      <td>0.088062</td>\n",
       "      <td>0.970447</td>\n",
       "      <td>-0.721945</td>\n",
       "      <td>0.235983</td>\n",
       "      <td>0.683491</td>\n",
       "      <td>...</td>\n",
       "      <td>-0.282777</td>\n",
       "      <td>0.103563</td>\n",
       "      <td>0.620954</td>\n",
       "      <td>0.197077</td>\n",
       "      <td>0.692392</td>\n",
       "      <td>-0.206530</td>\n",
       "      <td>-0.021328</td>\n",
       "      <td>-0.019823</td>\n",
       "      <td>-0.042682</td>\n",
       "      <td>0.00</td>\n",
       "    </tr>\n",
       "  </tbody>\n",
       "</table>\n",
       "<p>5 rows × 30 columns</p>\n",
       "</div>"
      ],
      "text/plain": [
       "       Time        V1        V2        V3        V4        V5        V6  \\\n",
       "0   82450.0  1.314539  0.590643 -0.666593  0.716564  0.301978 -1.125467   \n",
       "1   50554.0 -0.798672  1.185093  0.904547  0.694584  0.219041 -0.319295   \n",
       "2   55125.0 -0.391128 -0.245540  1.122074 -1.308725 -0.639891  0.008678   \n",
       "3  116572.0 -0.060302  1.065093 -0.987421 -0.029567  0.176376 -1.348539   \n",
       "4   90434.0  1.848433  0.373364  0.269272  3.866438  0.088062  0.970447   \n",
       "\n",
       "         V7        V8        V9  ...       V20       V21       V22       V23  \\\n",
       "0  0.388881 -0.288390 -0.132137  ... -0.058040 -0.170307 -0.429655 -0.141341   \n",
       "1  0.495236  0.139269 -0.760214  ... -0.081298  0.202287  0.578699 -0.092245   \n",
       "2 -0.701304 -0.027315 -2.628854  ...  0.065716 -0.133485  0.117403 -0.191748   \n",
       "3  0.775644  0.134843 -0.149734  ... -0.169706  0.355576  0.907570 -0.018454   \n",
       "4 -0.721945  0.235983  0.683491  ... -0.282777  0.103563  0.620954  0.197077   \n",
       "\n",
       "        V24       V25       V26       V27       V28  Amount  \n",
       "0 -0.200195  0.639491  0.399476 -0.034321  0.031692    0.76  \n",
       "1  0.013723 -0.246466 -0.380057 -0.396030 -0.112901    4.18  \n",
       "2 -0.488642 -0.309774  0.008100  0.163716  0.239582   15.00  \n",
       "3 -0.126269 -0.339923 -0.150285 -0.023634  0.042330   57.00  \n",
       "4  0.692392 -0.206530 -0.021328 -0.019823 -0.042682    0.00  \n",
       "\n",
       "[5 rows x 30 columns]"
      ]
     },
     "execution_count": 12,
     "metadata": {},
     "output_type": "execute_result"
    }
   ],
   "source": [
    "# Undersampling, ou seja, reduzindo o conjunto de dados da classe majoritária para a classe minoritária\n",
    "X = dataset.loc[:, dataset.columns != 'Class'].to_numpy()\n",
    "y = dataset.loc[:, dataset.columns == 'Class'].to_numpy()\n",
    "\n",
    "undersample = RandomUnderSampler(sampling_strategy='majority', random_state = 42)\n",
    "X_resampled, y_resampled = undersample.fit_resample(X, y)\n",
    "\n",
    "data = pd.DataFrame(X_resampled, columns= [col for col in dataset.columns if col != \"Class\"])\n",
    "data.head()"
   ]
  },
  {
   "cell_type": "markdown",
   "id": "e4f5c6b4",
   "metadata": {},
   "source": [
    "### Para tratar do desbalanço da classe de fraude e não fraude, foi-se utilizado a técnica de undersampling"
   ]
  },
  {
   "cell_type": "code",
   "execution_count": 13,
   "id": "ca1422e0",
   "metadata": {},
   "outputs": [
    {
     "data": {
      "text/plain": [
       "Counter({0: 492, 1: 492})"
      ]
     },
     "execution_count": 13,
     "metadata": {},
     "output_type": "execute_result"
    }
   ],
   "source": [
    "Counter(y_resampled)"
   ]
  },
  {
   "cell_type": "markdown",
   "id": "59431cd0",
   "metadata": {},
   "source": [
    "## Feature Selection"
   ]
  },
  {
   "cell_type": "code",
   "execution_count": 14,
   "id": "46abda76",
   "metadata": {},
   "outputs": [
    {
     "name": "stdout",
     "output_type": "stream",
     "text": [
      "     Specs        Score\n",
      "14     V14  1256.650733\n",
      "4       V4  1013.175714\n",
      "11     V11   868.392856\n",
      "12     V12   854.121564\n",
      "10     V10   640.591039\n",
      "16     V16   546.054125\n",
      "3       V3   458.969917\n",
      "9       V9   447.693077\n",
      "17     V17   446.717840\n",
      "2       V2   313.462018\n",
      "7       V7   290.393676\n",
      "18     V18   270.697699\n",
      "1       V1   243.965961\n",
      "6       V6   175.365411\n",
      "5       V5   168.020887\n",
      "19     V19    75.872284\n",
      "20     V20    28.880467\n",
      "0     Time    22.333644\n",
      "21     V21    15.513391\n",
      "29  Amount     8.836073\n",
      "28     V28     8.748696\n",
      "24     V24     7.073215\n",
      "26     V26     7.057291\n",
      "27     V27     6.299811\n",
      "13     V13     6.036638\n",
      "15     V15     3.272942\n",
      "8       V8     3.224301\n",
      "23     V23     0.519702\n",
      "22     V22     0.217742\n",
      "25     V25     0.151371\n"
     ]
    }
   ],
   "source": [
    "# Uilizando o SelectKBest para extrair as melhores features considerando o teste Anova\n",
    "\n",
    "# Extração de feature \n",
    "test = SelectKBest(score_func=f_classif, k=10)\n",
    "fit = test.fit(X_resampled, y_resampled)\n",
    "dfscores = pd.DataFrame(fit.scores_)\n",
    "dfcolumns = pd.DataFrame(data.columns)\n",
    "# Filtrando as duas colunas relacionadas a Spec e Score\n",
    "featureScores = pd.concat([dfcolumns,dfscores],axis=1)\n",
    "featureScores.columns = ['Specs','Score']  #nomeando as colunas do dataframe\n",
    "print(featureScores.nlargest(30,'Score'))  #print 30 melhores features"
   ]
  },
  {
   "cell_type": "code",
   "execution_count": 15,
   "id": "18d81baa",
   "metadata": {},
   "outputs": [
    {
     "data": {
      "text/plain": [
       "14     V14\n",
       "4       V4\n",
       "11     V11\n",
       "12     V12\n",
       "10     V10\n",
       "16     V16\n",
       "3       V3\n",
       "9       V9\n",
       "17     V17\n",
       "2       V2\n",
       "7       V7\n",
       "18     V18\n",
       "1       V1\n",
       "6       V6\n",
       "5       V5\n",
       "19     V19\n",
       "20     V20\n",
       "0     Time\n",
       "21     V21\n",
       "Name: Specs, dtype: object"
      ]
     },
     "execution_count": 15,
     "metadata": {},
     "output_type": "execute_result"
    }
   ],
   "source": [
    "# Valores de Score de features maiores que 9 serão considerados no conjunto de dados\n",
    "features = featureScores.nlargest(30,'Score')\n",
    "features = features[features['Score']>9]\n",
    "feat_selec = features['Specs']\n",
    "feat_selec"
   ]
  },
  {
   "cell_type": "code",
   "execution_count": 16,
   "id": "acc59c7e",
   "metadata": {},
   "outputs": [
    {
     "data": {
      "text/html": [
       "<div>\n",
       "<style scoped>\n",
       "    .dataframe tbody tr th:only-of-type {\n",
       "        vertical-align: middle;\n",
       "    }\n",
       "\n",
       "    .dataframe tbody tr th {\n",
       "        vertical-align: top;\n",
       "    }\n",
       "\n",
       "    .dataframe thead th {\n",
       "        text-align: right;\n",
       "    }\n",
       "</style>\n",
       "<table border=\"1\" class=\"dataframe\">\n",
       "  <thead>\n",
       "    <tr style=\"text-align: right;\">\n",
       "      <th></th>\n",
       "      <th>V14</th>\n",
       "      <th>V4</th>\n",
       "      <th>V11</th>\n",
       "      <th>V12</th>\n",
       "      <th>V10</th>\n",
       "      <th>V16</th>\n",
       "      <th>V3</th>\n",
       "      <th>V9</th>\n",
       "      <th>V17</th>\n",
       "      <th>V2</th>\n",
       "      <th>V7</th>\n",
       "      <th>V18</th>\n",
       "      <th>V1</th>\n",
       "      <th>V6</th>\n",
       "      <th>V5</th>\n",
       "      <th>V19</th>\n",
       "      <th>V20</th>\n",
       "      <th>Time</th>\n",
       "      <th>V21</th>\n",
       "    </tr>\n",
       "  </thead>\n",
       "  <tbody>\n",
       "    <tr>\n",
       "      <th>0</th>\n",
       "      <td>-1.054631</td>\n",
       "      <td>0.716564</td>\n",
       "      <td>-0.325347</td>\n",
       "      <td>-0.216435</td>\n",
       "      <td>-0.597739</td>\n",
       "      <td>0.601226</td>\n",
       "      <td>-0.666593</td>\n",
       "      <td>-0.132137</td>\n",
       "      <td>0.631117</td>\n",
       "      <td>0.590643</td>\n",
       "      <td>0.388881</td>\n",
       "      <td>0.295078</td>\n",
       "      <td>1.314539</td>\n",
       "      <td>-1.125467</td>\n",
       "      <td>0.301978</td>\n",
       "      <td>-0.136151</td>\n",
       "      <td>-0.058040</td>\n",
       "      <td>82450.0</td>\n",
       "      <td>-0.170307</td>\n",
       "    </tr>\n",
       "    <tr>\n",
       "      <th>1</th>\n",
       "      <td>0.573006</td>\n",
       "      <td>0.694584</td>\n",
       "      <td>0.821998</td>\n",
       "      <td>0.468322</td>\n",
       "      <td>0.170547</td>\n",
       "      <td>-0.011633</td>\n",
       "      <td>0.904547</td>\n",
       "      <td>-0.760214</td>\n",
       "      <td>-0.504570</td>\n",
       "      <td>1.185093</td>\n",
       "      <td>0.495236</td>\n",
       "      <td>0.722750</td>\n",
       "      <td>-0.798672</td>\n",
       "      <td>-0.319295</td>\n",
       "      <td>0.219041</td>\n",
       "      <td>0.861541</td>\n",
       "      <td>-0.081298</td>\n",
       "      <td>50554.0</td>\n",
       "      <td>0.202287</td>\n",
       "    </tr>\n",
       "    <tr>\n",
       "      <th>2</th>\n",
       "      <td>-0.338340</td>\n",
       "      <td>-1.308725</td>\n",
       "      <td>0.575866</td>\n",
       "      <td>-0.594037</td>\n",
       "      <td>2.051312</td>\n",
       "      <td>-0.756390</td>\n",
       "      <td>1.122074</td>\n",
       "      <td>-2.628854</td>\n",
       "      <td>0.535141</td>\n",
       "      <td>-0.245540</td>\n",
       "      <td>-0.701304</td>\n",
       "      <td>1.016704</td>\n",
       "      <td>-0.391128</td>\n",
       "      <td>0.008678</td>\n",
       "      <td>-0.639891</td>\n",
       "      <td>2.133828</td>\n",
       "      <td>0.065716</td>\n",
       "      <td>55125.0</td>\n",
       "      <td>-0.133485</td>\n",
       "    </tr>\n",
       "    <tr>\n",
       "      <th>3</th>\n",
       "      <td>-0.436671</td>\n",
       "      <td>-0.029567</td>\n",
       "      <td>-0.841133</td>\n",
       "      <td>-0.586472</td>\n",
       "      <td>-1.238598</td>\n",
       "      <td>0.266437</td>\n",
       "      <td>-0.987421</td>\n",
       "      <td>-0.149734</td>\n",
       "      <td>0.703234</td>\n",
       "      <td>1.065093</td>\n",
       "      <td>0.775644</td>\n",
       "      <td>0.916719</td>\n",
       "      <td>-0.060302</td>\n",
       "      <td>-1.348539</td>\n",
       "      <td>0.176376</td>\n",
       "      <td>-0.189967</td>\n",
       "      <td>-0.169706</td>\n",
       "      <td>116572.0</td>\n",
       "      <td>0.355576</td>\n",
       "    </tr>\n",
       "    <tr>\n",
       "      <th>4</th>\n",
       "      <td>1.323225</td>\n",
       "      <td>3.866438</td>\n",
       "      <td>1.297531</td>\n",
       "      <td>-1.920966</td>\n",
       "      <td>1.166335</td>\n",
       "      <td>1.317655</td>\n",
       "      <td>0.269272</td>\n",
       "      <td>0.683491</td>\n",
       "      <td>-0.441076</td>\n",
       "      <td>0.373364</td>\n",
       "      <td>-0.721945</td>\n",
       "      <td>0.804104</td>\n",
       "      <td>1.848433</td>\n",
       "      <td>0.970447</td>\n",
       "      <td>0.088062</td>\n",
       "      <td>-1.658339</td>\n",
       "      <td>-0.282777</td>\n",
       "      <td>90434.0</td>\n",
       "      <td>0.103563</td>\n",
       "    </tr>\n",
       "    <tr>\n",
       "      <th>...</th>\n",
       "      <td>...</td>\n",
       "      <td>...</td>\n",
       "      <td>...</td>\n",
       "      <td>...</td>\n",
       "      <td>...</td>\n",
       "      <td>...</td>\n",
       "      <td>...</td>\n",
       "      <td>...</td>\n",
       "      <td>...</td>\n",
       "      <td>...</td>\n",
       "      <td>...</td>\n",
       "      <td>...</td>\n",
       "      <td>...</td>\n",
       "      <td>...</td>\n",
       "      <td>...</td>\n",
       "      <td>...</td>\n",
       "      <td>...</td>\n",
       "      <td>...</td>\n",
       "      <td>...</td>\n",
       "    </tr>\n",
       "    <tr>\n",
       "      <th>979</th>\n",
       "      <td>-6.665177</td>\n",
       "      <td>1.749293</td>\n",
       "      <td>2.115795</td>\n",
       "      <td>-5.417424</td>\n",
       "      <td>-5.587794</td>\n",
       "      <td>-2.897825</td>\n",
       "      <td>-4.518331</td>\n",
       "      <td>-2.064945</td>\n",
       "      <td>-4.570529</td>\n",
       "      <td>1.125653</td>\n",
       "      <td>-0.882850</td>\n",
       "      <td>-1.315147</td>\n",
       "      <td>-1.927883</td>\n",
       "      <td>-2.010494</td>\n",
       "      <td>-1.566487</td>\n",
       "      <td>0.391167</td>\n",
       "      <td>1.252967</td>\n",
       "      <td>169142.0</td>\n",
       "      <td>0.778584</td>\n",
       "    </tr>\n",
       "    <tr>\n",
       "      <th>980</th>\n",
       "      <td>-5.210141</td>\n",
       "      <td>1.411850</td>\n",
       "      <td>2.858466</td>\n",
       "      <td>-3.096915</td>\n",
       "      <td>-3.232153</td>\n",
       "      <td>-2.155297</td>\n",
       "      <td>-5.004247</td>\n",
       "      <td>-1.127396</td>\n",
       "      <td>-3.267116</td>\n",
       "      <td>1.289381</td>\n",
       "      <td>-1.413170</td>\n",
       "      <td>-0.688505</td>\n",
       "      <td>1.378559</td>\n",
       "      <td>-1.326536</td>\n",
       "      <td>0.442581</td>\n",
       "      <td>0.737657</td>\n",
       "      <td>0.226138</td>\n",
       "      <td>169347.0</td>\n",
       "      <td>0.370612</td>\n",
       "    </tr>\n",
       "    <tr>\n",
       "      <th>981</th>\n",
       "      <td>-4.057162</td>\n",
       "      <td>0.468308</td>\n",
       "      <td>1.794969</td>\n",
       "      <td>-2.775022</td>\n",
       "      <td>-3.463891</td>\n",
       "      <td>-1.603015</td>\n",
       "      <td>-2.213700</td>\n",
       "      <td>-0.652250</td>\n",
       "      <td>-5.035326</td>\n",
       "      <td>1.126366</td>\n",
       "      <td>-2.234739</td>\n",
       "      <td>-0.507000</td>\n",
       "      <td>-0.676143</td>\n",
       "      <td>-0.003346</td>\n",
       "      <td>-1.120541</td>\n",
       "      <td>0.266272</td>\n",
       "      <td>0.247968</td>\n",
       "      <td>169351.0</td>\n",
       "      <td>0.751826</td>\n",
       "    </tr>\n",
       "    <tr>\n",
       "      <th>982</th>\n",
       "      <td>-6.416628</td>\n",
       "      <td>1.817092</td>\n",
       "      <td>1.933520</td>\n",
       "      <td>-5.030465</td>\n",
       "      <td>-5.245984</td>\n",
       "      <td>-2.549498</td>\n",
       "      <td>-5.399730</td>\n",
       "      <td>-1.632333</td>\n",
       "      <td>-4.614717</td>\n",
       "      <td>0.585864</td>\n",
       "      <td>-2.208002</td>\n",
       "      <td>-1.478138</td>\n",
       "      <td>-3.113832</td>\n",
       "      <td>-2.943548</td>\n",
       "      <td>-0.840618</td>\n",
       "      <td>-0.035480</td>\n",
       "      <td>0.306271</td>\n",
       "      <td>169966.0</td>\n",
       "      <td>0.583276</td>\n",
       "    </tr>\n",
       "    <tr>\n",
       "      <th>983</th>\n",
       "      <td>-1.948883</td>\n",
       "      <td>0.408670</td>\n",
       "      <td>0.491140</td>\n",
       "      <td>0.728903</td>\n",
       "      <td>-0.888722</td>\n",
       "      <td>0.519436</td>\n",
       "      <td>-2.583441</td>\n",
       "      <td>0.577829</td>\n",
       "      <td>0.903562</td>\n",
       "      <td>0.158476</td>\n",
       "      <td>0.223050</td>\n",
       "      <td>1.197315</td>\n",
       "      <td>1.991976</td>\n",
       "      <td>-0.096695</td>\n",
       "      <td>1.151147</td>\n",
       "      <td>0.593509</td>\n",
       "      <td>-0.017652</td>\n",
       "      <td>170348.0</td>\n",
       "      <td>-0.164350</td>\n",
       "    </tr>\n",
       "  </tbody>\n",
       "</table>\n",
       "<p>984 rows × 19 columns</p>\n",
       "</div>"
      ],
      "text/plain": [
       "          V14        V4       V11       V12       V10       V16        V3  \\\n",
       "0   -1.054631  0.716564 -0.325347 -0.216435 -0.597739  0.601226 -0.666593   \n",
       "1    0.573006  0.694584  0.821998  0.468322  0.170547 -0.011633  0.904547   \n",
       "2   -0.338340 -1.308725  0.575866 -0.594037  2.051312 -0.756390  1.122074   \n",
       "3   -0.436671 -0.029567 -0.841133 -0.586472 -1.238598  0.266437 -0.987421   \n",
       "4    1.323225  3.866438  1.297531 -1.920966  1.166335  1.317655  0.269272   \n",
       "..        ...       ...       ...       ...       ...       ...       ...   \n",
       "979 -6.665177  1.749293  2.115795 -5.417424 -5.587794 -2.897825 -4.518331   \n",
       "980 -5.210141  1.411850  2.858466 -3.096915 -3.232153 -2.155297 -5.004247   \n",
       "981 -4.057162  0.468308  1.794969 -2.775022 -3.463891 -1.603015 -2.213700   \n",
       "982 -6.416628  1.817092  1.933520 -5.030465 -5.245984 -2.549498 -5.399730   \n",
       "983 -1.948883  0.408670  0.491140  0.728903 -0.888722  0.519436 -2.583441   \n",
       "\n",
       "           V9       V17        V2        V7       V18        V1        V6  \\\n",
       "0   -0.132137  0.631117  0.590643  0.388881  0.295078  1.314539 -1.125467   \n",
       "1   -0.760214 -0.504570  1.185093  0.495236  0.722750 -0.798672 -0.319295   \n",
       "2   -2.628854  0.535141 -0.245540 -0.701304  1.016704 -0.391128  0.008678   \n",
       "3   -0.149734  0.703234  1.065093  0.775644  0.916719 -0.060302 -1.348539   \n",
       "4    0.683491 -0.441076  0.373364 -0.721945  0.804104  1.848433  0.970447   \n",
       "..        ...       ...       ...       ...       ...       ...       ...   \n",
       "979 -2.064945 -4.570529  1.125653 -0.882850 -1.315147 -1.927883 -2.010494   \n",
       "980 -1.127396 -3.267116  1.289381 -1.413170 -0.688505  1.378559 -1.326536   \n",
       "981 -0.652250 -5.035326  1.126366 -2.234739 -0.507000 -0.676143 -0.003346   \n",
       "982 -1.632333 -4.614717  0.585864 -2.208002 -1.478138 -3.113832 -2.943548   \n",
       "983  0.577829  0.903562  0.158476  0.223050  1.197315  1.991976 -0.096695   \n",
       "\n",
       "           V5       V19       V20      Time       V21  \n",
       "0    0.301978 -0.136151 -0.058040   82450.0 -0.170307  \n",
       "1    0.219041  0.861541 -0.081298   50554.0  0.202287  \n",
       "2   -0.639891  2.133828  0.065716   55125.0 -0.133485  \n",
       "3    0.176376 -0.189967 -0.169706  116572.0  0.355576  \n",
       "4    0.088062 -1.658339 -0.282777   90434.0  0.103563  \n",
       "..        ...       ...       ...       ...       ...  \n",
       "979 -1.566487  0.391167  1.252967  169142.0  0.778584  \n",
       "980  0.442581  0.737657  0.226138  169347.0  0.370612  \n",
       "981 -1.120541  0.266272  0.247968  169351.0  0.751826  \n",
       "982 -0.840618 -0.035480  0.306271  169966.0  0.583276  \n",
       "983  1.151147  0.593509 -0.017652  170348.0 -0.164350  \n",
       "\n",
       "[984 rows x 19 columns]"
      ]
     },
     "execution_count": 16,
     "metadata": {},
     "output_type": "execute_result"
    }
   ],
   "source": [
    "# Selecionando apenas as variáveis que apresentaram valores de score maiores que 9.\n",
    "datasetNew = data[feat_selec]\n",
    "datasetNew"
   ]
  },
  {
   "cell_type": "code",
   "execution_count": 17,
   "id": "10f6ecec",
   "metadata": {},
   "outputs": [],
   "source": [
    "# Undersampling, ou seja, reduzindo o conjunto de dados da classe majoritária para a classe minoritária\n",
    "X = datasetNew.to_numpy()\n",
    "y = dataset.loc[:, dataset.columns == 'Class'].to_numpy()"
   ]
  },
  {
   "cell_type": "code",
   "execution_count": 18,
   "id": "c48a3d08",
   "metadata": {},
   "outputs": [
    {
     "data": {
      "text/plain": [
       "Counter({0: 492, 1: 492})"
      ]
     },
     "execution_count": 18,
     "metadata": {},
     "output_type": "execute_result"
    }
   ],
   "source": [
    "Counter(y_resampled)"
   ]
  },
  {
   "cell_type": "markdown",
   "id": "173dbecd",
   "metadata": {},
   "source": [
    "### Foi-se utilizado uma técnica de seleção das variáveis que irão compor o modelo de ML, utilizando a ténica seleção univariada utilizando o teste Anova."
   ]
  },
  {
   "cell_type": "markdown",
   "id": "8385383f",
   "metadata": {},
   "source": [
    "# Modelos de Machine Learning"
   ]
  },
  {
   "cell_type": "code",
   "execution_count": 19,
   "id": "4765d1c6",
   "metadata": {},
   "outputs": [],
   "source": [
    "# Dividindo o conjunto de dados em treino 80% e teste 20%\n",
    "X_train, X_test, y_train, y_test = train_test_split(X_resampled, y_resampled,\n",
    "                                                    train_size=0.8, random_state=42)"
   ]
  },
  {
   "cell_type": "code",
   "execution_count": 20,
   "id": "35f02cbb",
   "metadata": {},
   "outputs": [],
   "source": [
    "# Padronização das variáveis explicativas do modelo para evitar problemas de escala\n",
    "from sklearn.preprocessing import StandardScaler\n",
    "sc_X = MinMaxScaler()\n",
    "X_train = sc_X.fit_transform(X_train)\n",
    "X_test = sc_X.transform(X_test)"
   ]
  },
  {
   "cell_type": "markdown",
   "id": "5ea3bc04",
   "metadata": {},
   "source": [
    "## Regressão logísticia (LR)"
   ]
  },
  {
   "cell_type": "code",
   "execution_count": 21,
   "id": "d8f2accc",
   "metadata": {},
   "outputs": [
    {
     "data": {
      "text/plain": [
       "LogisticRegression(max_iter=1000)"
      ]
     },
     "execution_count": 21,
     "metadata": {},
     "output_type": "execute_result"
    }
   ],
   "source": [
    "logmodel = LogisticRegression(max_iter=1000)\n",
    "logmodel.fit(X_train,y_train.ravel())"
   ]
  },
  {
   "cell_type": "code",
   "execution_count": 22,
   "id": "011f56f8",
   "metadata": {},
   "outputs": [],
   "source": [
    "predictions = logmodel.predict(X_test)"
   ]
  },
  {
   "cell_type": "code",
   "execution_count": 23,
   "id": "1cfaadf8",
   "metadata": {},
   "outputs": [
    {
     "name": "stdout",
     "output_type": "stream",
     "text": [
      "              precision    recall  f1-score   support\n",
      "\n",
      "           0       0.86      0.99      0.92        99\n",
      "           1       0.99      0.84      0.91        98\n",
      "\n",
      "    accuracy                           0.91       197\n",
      "   macro avg       0.92      0.91      0.91       197\n",
      "weighted avg       0.92      0.91      0.91       197\n",
      "\n"
     ]
    }
   ],
   "source": [
    "print(classification_report(y_test,predictions))"
   ]
  },
  {
   "cell_type": "code",
   "execution_count": 24,
   "id": "a7635947",
   "metadata": {},
   "outputs": [
    {
     "data": {
      "image/png": "[encoded data removed]",
      "text/plain": [
       "<Figure size 720x504 with 2 Axes>"
      ]
     },
     "metadata": {},
     "output_type": "display_data"
    }
   ],
   "source": [
    "conf_matrix = confusion_matrix(y_test,predictions)\n",
    "\n",
    "def plot_confusion_matrix(conf_matrix):\n",
    "  labels = ['True', 'prediction']\n",
    "  df_cm = pd.DataFrame(conf_matrix, index=['1','2'], columns=['1','2'])\n",
    "  plt.figure(figsize = (10,7))\n",
    "  sns.heatmap(df_cm, annot=True, fmt='g', cmap=\"Blues\")\n",
    "  plt.xlabel('Actual')\n",
    "  plt.ylabel('Predicted')\n",
    "  plt.title(\"Confusion Matrix\")\n",
    "\n",
    "  # plt.savefig()\n",
    "\n",
    "plot_confusion_matrix(conf_matrix)"
   ]
  },
  {
   "cell_type": "code",
   "execution_count": 25,
   "id": "1342be23",
   "metadata": {},
   "outputs": [
    {
     "name": "stdout",
     "output_type": "stream",
     "text": [
      "LR Accuracy: 0.9137055837563451\n",
      "LR recall:  0.8367346938775511\n",
      "LR F1 score:  0.9060773480662982\n",
      "LR matthews corrcoef:  0.8370516586018008\n"
     ]
    }
   ],
   "source": [
    "# Avaliação das métricas\n",
    "print('LR Accuracy:',accuracy_score(y_test,predictions))\n",
    "print('LR recall: ', recall_score(y_test,predictions))\n",
    "print('LR F1 score: ', f1_score(y_test,predictions))\n",
    "print('LR matthews corrcoef: ', matthews_corrcoef(y_test,predictions))"
   ]
  },
  {
   "cell_type": "markdown",
   "id": "54ec5b9a",
   "metadata": {},
   "source": [
    "## Árvore de Decisão (AD)"
   ]
  },
  {
   "cell_type": "code",
   "execution_count": 26,
   "id": "49facb46",
   "metadata": {},
   "outputs": [
    {
     "data": {
      "text/plain": [
       "DecisionTreeClassifier()"
      ]
     },
     "execution_count": 26,
     "metadata": {},
     "output_type": "execute_result"
    }
   ],
   "source": [
    "DecisionTree = DecisionTreeClassifier()\n",
    "DecisionTree.fit(X_train, y_train)"
   ]
  },
  {
   "cell_type": "code",
   "execution_count": 27,
   "id": "d2dfb5e2",
   "metadata": {},
   "outputs": [],
   "source": [
    "predictions_Tree = DecisionTree.predict(X_test)"
   ]
  },
  {
   "cell_type": "code",
   "execution_count": 28,
   "id": "b11e08a4",
   "metadata": {},
   "outputs": [
    {
     "name": "stdout",
     "output_type": "stream",
     "text": [
      "              precision    recall  f1-score   support\n",
      "\n",
      "           0       0.88      0.92      0.90        99\n",
      "           1       0.91      0.87      0.89        98\n",
      "\n",
      "    accuracy                           0.89       197\n",
      "   macro avg       0.89      0.89      0.89       197\n",
      "weighted avg       0.89      0.89      0.89       197\n",
      "\n"
     ]
    }
   ],
   "source": [
    "print(classification_report(y_test,predictions_Tree))"
   ]
  },
  {
   "cell_type": "code",
   "execution_count": 29,
   "id": "9327f2bd",
   "metadata": {},
   "outputs": [
    {
     "data": {
      "image/png": "[encoded data removed]",
      "text/plain": [
       "<Figure size 720x504 with 2 Axes>"
      ]
     },
     "metadata": {},
     "output_type": "display_data"
    }
   ],
   "source": [
    "conf_matrix_tree = confusion_matrix(y_test,predictions_Tree)\n",
    "\n",
    "def plot_confusion_matrix(conf_matrix_tree):\n",
    "  labels = ['True', 'prediction']\n",
    "  df_cm = pd.DataFrame(conf_matrix_tree, index=['1','2'], columns=['1','2'])\n",
    "  plt.figure(figsize = (10,7))\n",
    "  sns.heatmap(df_cm, annot=True, fmt='g', cmap=\"Blues\")\n",
    "  plt.xlabel('Actual')\n",
    "  plt.ylabel('Predicted')\n",
    "  plt.title(\"Confusion Matrix\")\n",
    "\n",
    "  # plt.savefig()\n",
    "\n",
    "plot_confusion_matrix(conf_matrix_tree)"
   ]
  },
  {
   "cell_type": "code",
   "execution_count": 30,
   "id": "8f224fb3",
   "metadata": {},
   "outputs": [
    {
     "name": "stdout",
     "output_type": "stream",
     "text": [
      "AD Accuracy: 0.8934010152284264\n",
      "AD recall:  0.8673469387755102\n",
      "AD F1 score:  0.8900523560209423\n",
      "AD matthews corrcoef:  0.7877577318707523\n"
     ]
    }
   ],
   "source": [
    "# Avaliação das métricas\n",
    "print('AD Accuracy:',accuracy_score(y_test,predictions_Tree))\n",
    "print('AD recall: ', recall_score(y_test,predictions_Tree))\n",
    "print('AD F1 score: ', f1_score(y_test,predictions_Tree))\n",
    "print('AD matthews corrcoef: ', matthews_corrcoef(y_test,predictions_Tree))"
   ]
  },
  {
   "cell_type": "markdown",
   "id": "0b801712",
   "metadata": {},
   "source": [
    "## Randon Forest (RF)"
   ]
  },
  {
   "cell_type": "code",
   "execution_count": 31,
   "id": "e35e88e1",
   "metadata": {},
   "outputs": [
    {
     "data": {
      "text/plain": [
       "RandomForestClassifier()"
      ]
     },
     "execution_count": 31,
     "metadata": {},
     "output_type": "execute_result"
    }
   ],
   "source": [
    "Randonmod = RandomForestClassifier()\n",
    "Randonmod.fit(X_train, y_train.ravel())"
   ]
  },
  {
   "cell_type": "code",
   "execution_count": 32,
   "id": "85f825fd",
   "metadata": {},
   "outputs": [],
   "source": [
    "predictions_rd = Randonmod.predict(X_test)"
   ]
  },
  {
   "cell_type": "code",
   "execution_count": 33,
   "id": "94be1f9d",
   "metadata": {},
   "outputs": [
    {
     "name": "stdout",
     "output_type": "stream",
     "text": [
      "              precision    recall  f1-score   support\n",
      "\n",
      "           0       0.89      0.96      0.92        99\n",
      "           1       0.96      0.88      0.91        98\n",
      "\n",
      "    accuracy                           0.92       197\n",
      "   macro avg       0.92      0.92      0.92       197\n",
      "weighted avg       0.92      0.92      0.92       197\n",
      "\n"
     ]
    }
   ],
   "source": [
    "print(classification_report(y_test,predictions_rd))"
   ]
  },
  {
   "cell_type": "code",
   "execution_count": 34,
   "id": "9aaa75a7",
   "metadata": {},
   "outputs": [
    {
     "data": {
      "image/png": "[encoded data removed]",
      "text/plain": [
       "<Figure size 720x504 with 2 Axes>"
      ]
     },
     "metadata": {},
     "output_type": "display_data"
    }
   ],
   "source": [
    "conf_matrix_rd = confusion_matrix(y_test,predictions_rd)\n",
    "\n",
    "def plot_confusion_matrix(conf_matrix_rd):\n",
    "  labels = ['True', 'prediction']\n",
    "  df_cm = pd.DataFrame(conf_matrix_rd, index=['1','2'], columns=['1','2'])\n",
    "  plt.figure(figsize = (10,7))\n",
    "  sns.heatmap(df_cm, annot=True, fmt='g', cmap=\"Blues\")\n",
    "  plt.xlabel('Actual')\n",
    "  plt.ylabel('Predicted')\n",
    "  plt.title(\"Confusion Matrix\")\n",
    "\n",
    "  # plt.savefig()\n",
    "\n",
    "plot_confusion_matrix(conf_matrix_rd)"
   ]
  },
  {
   "cell_type": "code",
   "execution_count": 35,
   "id": "65a448ad",
   "metadata": {},
   "outputs": [
    {
     "name": "stdout",
     "output_type": "stream",
     "text": [
      "RF Accuracy: 0.9187817258883249\n",
      "RF recall:  0.8775510204081632\n",
      "RF F1 score:  0.9148936170212767\n",
      "RF matthews corrcoef:  0.840270673617859\n"
     ]
    }
   ],
   "source": [
    "# Avaliação das métricas\n",
    "print('RF Accuracy:',accuracy_score(y_test,predictions_rd))\n",
    "print('RF recall: ', recall_score(y_test,predictions_rd))\n",
    "print('RF F1 score: ', f1_score(y_test,predictions_rd))\n",
    "print('RF matthews corrcoef: ', matthews_corrcoef(y_test,predictions_rd))"
   ]
  },
  {
   "cell_type": "markdown",
   "id": "888b47e1",
   "metadata": {},
   "source": [
    "## GradientBoosting (GBoosting)"
   ]
  },
  {
   "cell_type": "code",
   "execution_count": 36,
   "id": "297417dd",
   "metadata": {},
   "outputs": [
    {
     "data": {
      "text/plain": [
       "GradientBoostingClassifier()"
      ]
     },
     "execution_count": 36,
     "metadata": {},
     "output_type": "execute_result"
    }
   ],
   "source": [
    "gradmod = GradientBoostingClassifier()\n",
    "gradmod.fit(X_train, y_train.ravel())"
   ]
  },
  {
   "cell_type": "code",
   "execution_count": 37,
   "id": "368841d3",
   "metadata": {},
   "outputs": [],
   "source": [
    "predictions_grad= gradmod.predict(X_test)"
   ]
  },
  {
   "cell_type": "code",
   "execution_count": 38,
   "id": "bddadcd1",
   "metadata": {},
   "outputs": [
    {
     "name": "stdout",
     "output_type": "stream",
     "text": [
      "              precision    recall  f1-score   support\n",
      "\n",
      "           0       0.90      0.96      0.93        99\n",
      "           1       0.96      0.89      0.92        98\n",
      "\n",
      "    accuracy                           0.92       197\n",
      "   macro avg       0.93      0.92      0.92       197\n",
      "weighted avg       0.93      0.92      0.92       197\n",
      "\n"
     ]
    }
   ],
   "source": [
    "print(classification_report(y_test,predictions_grad))"
   ]
  },
  {
   "cell_type": "code",
   "execution_count": 39,
   "id": "aecd1770",
   "metadata": {},
   "outputs": [
    {
     "data": {
      "image/png": "[encoded data removed]",
      "text/plain": [
       "<Figure size 720x504 with 2 Axes>"
      ]
     },
     "metadata": {},
     "output_type": "display_data"
    }
   ],
   "source": [
    "conf_matrix_grad = confusion_matrix(y_test,predictions_grad)\n",
    "def plot_confusion_matrix(conf_matrix_grad):\n",
    "  labels = ['True', 'prediction']\n",
    "  df_cm = pd.DataFrame(conf_matrix_grad, index=['1','2'], columns=['1','2'])\n",
    "  plt.figure(figsize = (10,7))\n",
    "  sns.heatmap(df_cm, annot=True, fmt='g', cmap=\"Blues\")\n",
    "  plt.xlabel('Actual')\n",
    "  plt.ylabel('Predicted')\n",
    "  plt.title(\"Confusion Matrix\")\n",
    "\n",
    "  # plt.savefig()\n",
    "\n",
    "plot_confusion_matrix(conf_matrix_grad)"
   ]
  },
  {
   "cell_type": "code",
   "execution_count": 40,
   "id": "9f33d151",
   "metadata": {},
   "outputs": [
    {
     "name": "stdout",
     "output_type": "stream",
     "text": [
      "GBoosting Accuracy: 0.9238578680203046\n",
      "GBoosting recall:  0.8877551020408163\n",
      "GBoosting F1 score:  0.9206349206349207\n",
      "GBoosting matthews corrcoef:  0.849807156821831\n"
     ]
    }
   ],
   "source": [
    "# Avaliação das métricas\n",
    "print('GBoosting Accuracy:',accuracy_score(y_test,predictions_grad))\n",
    "print('GBoosting recall: ', recall_score(y_test,predictions_grad))\n",
    "print('GBoosting F1 score: ', f1_score(y_test,predictions_grad))\n",
    "print('GBoosting matthews corrcoef: ', matthews_corrcoef(y_test,predictions_grad))"
   ]
  },
  {
   "cell_type": "markdown",
   "id": "93efd0b8",
   "metadata": {},
   "source": [
    "# Avaliação das Métricas para os modelos de LR, AD, RF, GBoosting"
   ]
  },
  {
   "cell_type": "code",
   "execution_count": 41,
   "id": "cc830f14",
   "metadata": {},
   "outputs": [
    {
     "name": "stdout",
     "output_type": "stream",
     "text": [
      "LR Accuracy: 0.9137055837563451\n",
      "AD Accuracy: 0.8934010152284264\n",
      "RF Accuracy: 0.9187817258883249\n",
      "GBoosting Accuracy: 0.9238578680203046\n"
     ]
    }
   ],
   "source": [
    "# Avaliação da Acurácia dos modelos \n",
    "print('LR Accuracy:',accuracy_score(y_test,predictions))\n",
    "print('AD Accuracy:',accuracy_score(y_test,predictions_Tree))\n",
    "print('RF Accuracy:',accuracy_score(y_test,predictions_rd))\n",
    "print('GBoosting Accuracy:',accuracy_score(y_test,predictions_grad))"
   ]
  },
  {
   "cell_type": "code",
   "execution_count": 43,
   "id": "4cd4ee46",
   "metadata": {},
   "outputs": [
    {
     "name": "stdout",
     "output_type": "stream",
     "text": [
      "LR recall_score: 0.9137055837563451\n",
      "AD recall_score: 0.8673469387755102\n",
      "RF recall_score: 0.8775510204081632\n",
      "GBoosting recall_score: 0.8877551020408163\n"
     ]
    }
   ],
   "source": [
    "# Avaliação da recall dos modelos \n",
    "print('LR recall_score:',accuracy_score(y_test,predictions))\n",
    "print('AD recall_score:',recall_score(y_test,predictions_Tree))\n",
    "print('RF recall_score:',recall_score(y_test,predictions_rd))\n",
    "print('GBoosting recall_score:',recall_score(y_test,predictions_grad))"
   ]
  },
  {
   "cell_type": "code",
   "execution_count": 44,
   "id": "4f8e2b50",
   "metadata": {},
   "outputs": [
    {
     "name": "stdout",
     "output_type": "stream",
     "text": [
      "LR F1 score: 0.9060773480662982\n",
      "AD F1 score: 0.8900523560209423\n",
      "RF F1 score: 0.9148936170212767\n",
      "GBoosting F1 score: 0.9206349206349207\n"
     ]
    }
   ],
   "source": [
    "# Avaliação da F1 score dos modelos \n",
    "print('LR F1 score:',f1_score(y_test,predictions))\n",
    "print('AD F1 score:',f1_score(y_test,predictions_Tree))\n",
    "print('RF F1 score:',f1_score(y_test,predictions_rd))\n",
    "print('GBoosting F1 score:',f1_score(y_test,predictions_grad))"
   ]
  },
  {
   "cell_type": "code",
   "execution_count": 45,
   "id": "364c6144",
   "metadata": {},
   "outputs": [
    {
     "name": "stdout",
     "output_type": "stream",
     "text": [
      "LR matthews corrcoef: 0.8370516586018008\n",
      "AD matthews corrcoef: 0.7877577318707523\n",
      "RF matthews corrcoef: 0.840270673617859\n",
      "GBoosting matthews corrcoef: 0.849807156821831\n"
     ]
    }
   ],
   "source": [
    "# Avaliação da F1 score dos modelos \n",
    "print('LR matthews corrcoef:',matthews_corrcoef(y_test,predictions))\n",
    "print('AD matthews corrcoef:',matthews_corrcoef(y_test,predictions_Tree))\n",
    "print('RF matthews corrcoef:',matthews_corrcoef(y_test,predictions_rd))\n",
    "print('GBoosting matthews corrcoef:',matthews_corrcoef(y_test,predictions_grad))"
   ]
  },
  {
   "cell_type": "markdown",
   "id": "f951258a",
   "metadata": {},
   "source": [
    "### Em relação as métricas adotadas pelos modelos de classificação o modelo de GBoosting tem os maiores valores em 3 métricas, apenas no recall que o modelo de Regressão logística possui valor maior. No entanto, com base nos resultados apresentados até aqui, o modelo GBoosting foi o adotado para ser utilizado em produção."
   ]
  },
  {
   "cell_type": "markdown",
   "id": "dd0847eb",
   "metadata": {},
   "source": [
    "# Considerações finais \n",
    "\n",
    "### Para o conjunto de dados apresentado neste projeto  as técnicas de redução de dimensionalidade via PCA já haviam sido utitlizadas para redução das colunas do conjunto de dados, por essa razão, o processo de limpeza e preparação dos dados foi mais rápida do que ocorre em projetos envolvendo dados reais de empresas.\n",
    "\n",
    "### Foram apresentados 4 modelos de Machine Learning: Regressão logística, Árvore de Decisão, Random Forest, e Gradient Boosting. \n",
    "\n",
    "### Para o decorer das análises foi considerado as técnicas de seleção de variáveis via SelectKBest (Seleção univariaida) utilizando os testes anova para decidir quais variáveis iriam compor o modelo.\n",
    "\n",
    "### Como tratam-se de um conjunto de dados em que a classe de fraude e não fraude é desbalanceada, foi-se utilizado a técnica de undersampling.\n",
    "\n",
    "### Os modelos de Machine Learning apresentaram valores de métricas (Acurácia, Recall, F1 Score, Matthews corrcoef) maiores do que foi definido inicialmente neste projeto. Entretanto, o modelo escolhido para produção será o modelo Gradiente Boosting.\n",
    "\n",
    "### É importante destacar que o Tunning dos parâmetros do modelo escolhido para a produção poderia ser efetuado. No entanto, como a acurácia ultrapassou o limete definido previamente não foi nencessário realizar essa técnica. \n",
    "\n",
    "### Com este modelo pode-se prever a priori quais transações são fraudentas e quais não são. Estes resultados são importantes para o banco, pois, reduzem as reclamações dos clientes e torna o banco cada vez mais conhecido por obter resultados satisfatórios para seus clientes, e além disso reduz os danos financeiros aos seus clientes."
   ]
  },
  {
   "cell_type": "code",
   "execution_count": null,
   "id": "812f28d3",
   "metadata": {},
   "outputs": [],
   "source": []
  }
 ],
 "metadata": {
  "kernelspec": {
   "display_name": "Python 3 (ipykernel)",
   "language": "python",
   "name": "python3"
  },
  "language_info": {
   "codemirror_mode": {
    "name": "ipython",
    "version": 3
   },
   "file_extension": ".py",
   "mimetype": "text/x-python",
   "name": "python",
   "nbconvert_exporter": "python",
   "pygments_lexer": "ipython3",
   "version": "3.9.7"
  }
 },
 "nbformat": 4,
 "nbformat_minor": 5
}
